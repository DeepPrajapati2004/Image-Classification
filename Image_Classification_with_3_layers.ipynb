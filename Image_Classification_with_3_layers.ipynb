{
 "cells": [
  {
   "cell_type": "code",
   "execution_count": 4,
   "id": "56cd272e",
   "metadata": {},
   "outputs": [],
   "source": [
    "from tensorflow.keras.layers import Conv2D,MaxPool2D,Dense,Flatten,BatchNormalization,Dropout\n",
    "from tensorflow.keras.preprocessing.image import ImageDataGenerator\n",
    "from tensorflow.keras.optimizers import Adam,RMSprop\n",
    "from tensorflow.keras.preprocessing import image\n",
    "from tensorflow.keras.models import Sequential\n",
    "import matplotlib.pyplot as plt\n",
    "import tensorflow as tf\n",
    "import numpy as np\n",
    "import os"
   ]
  },
  {
   "cell_type": "code",
   "execution_count": 5,
   "id": "e1afdbfe",
   "metadata": {},
   "outputs": [],
   "source": [
    "train_datagen=ImageDataGenerator(horizontal_flip=True,\n",
    "                                shear_range=0.3,\n",
    "                                zoom_range=0.2,\n",
    "                                channel_shift_range=0.03,\n",
    "                                brightness_range=[0.3,1.3],\n",
    "                                fill_mode='nearest',\n",
    "                                width_shift_range=0.25,\n",
    "                                height_shift_range=0.25,\n",
    "                                rescale=1/255)\n",
    "test_datagen=ImageDataGenerator(rescale=1/255)"
   ]
  },
  {
   "cell_type": "code",
   "execution_count": 6,
   "id": "d5f81a06",
   "metadata": {},
   "outputs": [
    {
     "name": "stdout",
     "output_type": "stream",
     "text": [
      "Found 40 images belonging to 4 classes.\n",
      "Found 32 images belonging to 4 classes.\n"
     ]
    }
   ],
   "source": [
    "train_dataset=train_datagen.flow_from_directory(directory='base_data/Training',\n",
    "                                               target_size=(227,227),\n",
    "                                               batch_size=10,\n",
    "                                               class_mode='categorical')\n",
    "valid_dataset=test_datagen.flow_from_directory(directory='base_data/Validation',\n",
    "                                               target_size=(227,227),\n",
    "                                               batch_size=10,\n",
    "                                               class_mode='categorical')"
   ]
  },
  {
   "cell_type": "code",
   "execution_count": 7,
   "id": "e17d0ef8",
   "metadata": {},
   "outputs": [],
   "source": [
    "model=Sequential([Conv2D(filters=32,kernel_size=(5,5),activation='relu',input_shape=(227,227,3)),\n",
    "                 MaxPool2D(pool_size=(3,3),strides=(2,2)),\n",
    "                 Conv2D(filters=32,kernel_size=(3,3),activation='relu',padding='same'),\n",
    "                 MaxPool2D(pool_size=(3,3),strides=(1,1)),\n",
    "                 Conv2D(filters=64,kernel_size=(3,3),activation='relu',padding='valid'),\n",
    "                 MaxPool2D(pool_size=(3,3),strides=(1,1)),\n",
    "                 Flatten(),\n",
    "                 Dense(4,activation='softmax')])"
   ]
  },
  {
   "cell_type": "code",
   "execution_count": 27,
   "id": "617d2a11",
   "metadata": {},
   "outputs": [],
   "source": [
    "model.compile(loss='categorical_crossentropy',\n",
    "             optimizer=Adam(learning_rate=0.00001),\n",
    "             metrics='accuracy')"
   ]
  },
  {
   "cell_type": "code",
   "execution_count": null,
   "id": "3a4a8771",
   "metadata": {},
   "outputs": [
    {
     "name": "stdout",
     "output_type": "stream",
     "text": [
      "Epoch 1/20\n",
      "4/4 - 5s - loss: 0.1929 - accuracy: 0.9250 - val_loss: 2.7275 - val_accuracy: 0.5625\n",
      "Epoch 2/20\n",
      "4/4 - 4s - loss: 0.1550 - accuracy: 0.9500 - val_loss: 2.6952 - val_accuracy: 0.5625\n",
      "Epoch 3/20\n",
      "4/4 - 4s - loss: 0.2166 - accuracy: 0.9000 - val_loss: 2.6772 - val_accuracy: 0.5938\n",
      "Epoch 4/20\n",
      "4/4 - 4s - loss: 0.2365 - accuracy: 0.9000 - val_loss: 2.6747 - val_accuracy: 0.5938\n",
      "Epoch 5/20\n",
      "4/4 - 5s - loss: 0.2032 - accuracy: 0.8750 - val_loss: 2.6902 - val_accuracy: 0.5625\n",
      "Epoch 6/20\n",
      "4/4 - 4s - loss: 0.2293 - accuracy: 0.9250 - val_loss: 2.7053 - val_accuracy: 0.5312\n",
      "Epoch 7/20\n",
      "4/4 - 4s - loss: 0.2025 - accuracy: 0.9250 - val_loss: 2.7345 - val_accuracy: 0.5312\n",
      "Epoch 8/20\n",
      "4/4 - 4s - loss: 0.2344 - accuracy: 0.9500 - val_loss: 2.7534 - val_accuracy: 0.5312\n",
      "Epoch 9/20\n",
      "4/4 - 5s - loss: 0.1206 - accuracy: 0.9750 - val_loss: 2.7623 - val_accuracy: 0.5625\n",
      "Epoch 10/20\n",
      "4/4 - 4s - loss: 0.2169 - accuracy: 0.8750 - val_loss: 2.7637 - val_accuracy: 0.5625\n",
      "Epoch 11/20\n",
      "4/4 - 4s - loss: 0.1816 - accuracy: 0.9750 - val_loss: 2.7654 - val_accuracy: 0.5625\n",
      "Epoch 12/20\n",
      "4/4 - 4s - loss: 0.1991 - accuracy: 0.9500 - val_loss: 2.7508 - val_accuracy: 0.5625\n",
      "Epoch 13/20\n",
      "4/4 - 4s - loss: 0.2329 - accuracy: 0.9000 - val_loss: 2.7607 - val_accuracy: 0.5312\n",
      "Epoch 14/20\n",
      "4/4 - 4s - loss: 0.1656 - accuracy: 0.9500 - val_loss: 2.7758 - val_accuracy: 0.5312\n",
      "Epoch 15/20\n",
      "4/4 - 5s - loss: 0.2335 - accuracy: 0.9500 - val_loss: 2.7832 - val_accuracy: 0.5000\n",
      "Epoch 16/20\n",
      "4/4 - 5s - loss: 0.1873 - accuracy: 0.9250 - val_loss: 2.7830 - val_accuracy: 0.5000\n",
      "Epoch 17/20\n",
      "4/4 - 4s - loss: 0.1040 - accuracy: 0.9750 - val_loss: 2.7751 - val_accuracy: 0.5000\n",
      "Epoch 18/20\n",
      "4/4 - 5s - loss: 0.1317 - accuracy: 0.9750 - val_loss: 2.7638 - val_accuracy: 0.5000\n",
      "Epoch 19/20\n",
      "4/4 - 5s - loss: 0.1549 - accuracy: 0.9250 - val_loss: 2.7548 - val_accuracy: 0.4688\n",
      "Epoch 20/20\n"
     ]
    }
   ],
   "source": [
    "hist=model.fit(train_dataset,\n",
    "         epochs=20,\n",
    "         verbose=2,\n",
    "         validation_data=valid_dataset)"
   ]
  },
  {
   "cell_type": "code",
   "execution_count": null,
   "id": "cbd3d54c",
   "metadata": {},
   "outputs": [],
   "source": [
    "plt.plot(hist.history['accuracy'])\n",
    "plt.plot(hist.history['val_accuracy'])\n",
    "plt.title('model accuracy')\n",
    "plt.ylabel('accuracy')\n",
    "plt.xlabel('epoch')\n",
    "plt.legend(['train', 'test'], loc='upper left')\n",
    "plt.show()"
   ]
  },
  {
   "cell_type": "code",
   "execution_count": null,
   "id": "97d1d1b5",
   "metadata": {},
   "outputs": [],
   "source": [
    "plt.plot(hist.history['loss'])\n",
    "plt.plot(hist.history['val_loss'])\n",
    "plt.title('model loss')\n",
    "plt.ylabel('loss')\n",
    "plt.xlabel('epoch')\n",
    "plt.legend(['train', 'test'], loc='upper left')\n",
    "plt.show()"
   ]
  },
  {
   "cell_type": "code",
   "execution_count": null,
   "id": "d30f9c0d",
   "metadata": {},
   "outputs": [],
   "source": [
    "dir_path='base_data/Testing'\n",
    "for i in os.listdir(dir_path):\n",
    "    for j in range(1,7):\n",
    "        img=image.load_img(dir_path+'/'+i+'/'+'img'+str(j)+'.jpg',target_size=(227,227))\n",
    "        plt.imshow(img)\n",
    "        plt.show()\n",
    "        \n",
    "        x=image.img_to_array(img)\n",
    "        x=np.expand_dims(x,axis=0)\n",
    "        images=np.vstack([x])\n",
    "        c=model.predict(images)\n",
    "        if c[0][0]==1:\n",
    "            print(\"Cat\")\n",
    "        elif c[0][1]==1:\n",
    "            print('Dog')\n",
    "        elif c[0][2]==1:\n",
    "            print(\"Lion\")\n",
    "        else:\n",
    "            print('Panda')"
   ]
  },
  {
   "cell_type": "code",
   "execution_count": null,
   "id": "ca1b2caa",
   "metadata": {},
   "outputs": [],
   "source": []
  }
 ],
 "metadata": {
  "kernelspec": {
   "display_name": "Python 3 (ipykernel)",
   "language": "python",
   "name": "python3"
  },
  "language_info": {
   "codemirror_mode": {
    "name": "ipython",
    "version": 3
   },
   "file_extension": ".py",
   "mimetype": "text/x-python",
   "name": "python",
   "nbconvert_exporter": "python",
   "pygments_lexer": "ipython3",
   "version": "3.9.2"
  }
 },
 "nbformat": 4,
 "nbformat_minor": 5
}
