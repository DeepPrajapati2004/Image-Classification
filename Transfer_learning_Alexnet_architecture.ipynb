{
 "cells": [
  {
   "cell_type": "code",
   "execution_count": 73,
   "id": "c676158f",
   "metadata": {},
   "outputs": [],
   "source": [
    "from tensorflow.keras.layers import Dense, Activation, Dropout, Flatten,Conv2D, MaxPooling2D,BatchNormalization\n",
    "from tensorflow.keras.preprocessing.image import ImageDataGenerator\n",
    "from tensorflow.keras.optimizers import RMSprop\n",
    "from tensorflow.keras.models import Sequential\n",
    "import tensorflow.keras\n",
    "import matplotlib.pyplot as plt"
   ]
  },
  {
   "cell_type": "code",
   "execution_count": 42,
   "id": "376caafa",
   "metadata": {},
   "outputs": [],
   "source": [
    "train=ImageDataGenerator(rescale=1/255)\n",
    "valid=ImageDataGenerator(rescale=1/255)"
   ]
  },
  {
   "cell_type": "code",
   "execution_count": 51,
   "id": "122e09d6",
   "metadata": {},
   "outputs": [
    {
     "name": "stdout",
     "output_type": "stream",
     "text": [
      "Found 834 images belonging to 4 classes.\n",
      "Found 24 images belonging to 4 classes.\n"
     ]
    }
   ],
   "source": [
    "train_dataset=train.flow_from_directory('Basedata/Training/',\n",
    "                                        target_size=(227,227),\n",
    "                                        batch_size=2,\n",
    "                                        class_mode='categorical')\n",
    "validation_dataset=valid.flow_from_directory('Basedata/Validation/',\n",
    "                                        target_size=(227,227),\n",
    "                                        batch_size=2,\n",
    "                                        class_mode='categorical')"
   ]
  },
  {
   "cell_type": "code",
   "execution_count": 61,
   "id": "ec5de11e",
   "metadata": {
    "scrolled": true
   },
   "outputs": [],
   "source": [
    "# (3) Create a sequential model\n",
    "model = Sequential()\n",
    "\n",
    "# 1st Convolutional Layer\n",
    "model.add(Conv2D(filters=96, input_shape=(227,227,3), kernel_size=(11,11),strides=(4,4), padding='valid'))\n",
    "model.add(Activation('relu'))\n",
    "# Pooling \n",
    "model.add(MaxPooling2D(pool_size=(3,3), strides=(2,2), padding='valid'))\n",
    "# Batch Normalisation before passing it to the next layer\n",
    "model.add(BatchNormalization())\n",
    "\n",
    "# 2nd Convolutional Layer\n",
    "model.add(Conv2D(filters=256, kernel_size=(5,5), strides=(1,1), padding='same'))\n",
    "model.add(Activation('relu'))\n",
    "# Pooling\n",
    "model.add(MaxPooling2D(pool_size=(3,3), strides=(2,2), padding='valid'))\n",
    "# Batch Normalisation\n",
    "model.add(BatchNormalization())\n",
    "\n",
    "# 3rd Convolutional Layer\n",
    "model.add(Conv2D(filters=384, kernel_size=(3,3), strides=(1,1), padding='same'))\n",
    "model.add(Activation('relu'))\n",
    "# Batch Normalisation\n",
    "model.add(BatchNormalization())\n",
    "\n",
    "# 4th Convolutional Layer\n",
    "model.add(Conv2D(filters=384, kernel_size=(3,3), strides=(1,1), padding='same'))\n",
    "model.add(Activation('relu'))\n",
    "# Batch Normalisation\n",
    "model.add(BatchNormalization())\n",
    "\n",
    "# 5th Convolutional Layer\n",
    "model.add(Conv2D(filters=256, kernel_size=(3,3), strides=(1,1), padding='same'))\n",
    "model.add(Activation('relu'))\n",
    "# Pooling\n",
    "model.add(MaxPooling2D(pool_size=(3,3), strides=(2,2), padding='valid'))\n",
    "#Batch Normalisation\n",
    "model.add(BatchNormalization())\n",
    "\n",
    "# Passing it to a dense layer\n",
    "model.add(Flatten())\n",
    "# 1st Dense Layer\n",
    "model.add(Dense(4096, input_shape=(224*224*3,)))\n",
    "model.add(Activation('relu'))\n",
    "# Add Dropout to prevent overfitting\n",
    "model.add(Dropout(0.4))\n",
    "# Batch Normalisation\n",
    "model.add(BatchNormalization())\n",
    "\n",
    "# Output Layer\n",
    "model.add(Dense(4))\n",
    "model.add(Activation('softmax'))"
   ]
  },
  {
   "cell_type": "code",
   "execution_count": 86,
   "id": "93019c7a",
   "metadata": {},
   "outputs": [],
   "source": [
    "model.compile(loss='categorical_crossentropy',\n",
    "             optimizer=tensorflow.keras.optimizers.Adam(learning_rate=0.0001),\n",
    "             metrics='accuracy')"
   ]
  },
  {
   "cell_type": "code",
   "execution_count": null,
   "id": "4e47e20a",
   "metadata": {},
   "outputs": [
    {
     "name": "stdout",
     "output_type": "stream",
     "text": [
      "Epoch 1/20\n",
      "4/4 [==============================] - 3s 758ms/step - loss: 3.3576 - accuracy: 0.3750 - val_loss: 54.2868 - val_accuracy: 0.2083\n",
      "Epoch 2/20\n",
      "4/4 [==============================] - 3s 806ms/step - loss: 4.7810 - accuracy: 0.3750 - val_loss: 50.1922 - val_accuracy: 0.2500\n",
      "Epoch 3/20\n",
      "4/4 [==============================] - 3s 736ms/step - loss: 3.5081 - accuracy: 0.2500 - val_loss: 47.9117 - val_accuracy: 0.2083\n",
      "Epoch 4/20\n",
      "4/4 [==============================] - 3s 746ms/step - loss: 3.8506 - accuracy: 0.1250 - val_loss: 46.5880 - val_accuracy: 0.2500\n",
      "Epoch 5/20\n",
      "4/4 [==============================] - 3s 744ms/step - loss: 3.1900 - accuracy: 0.6250 - val_loss: 43.5611 - val_accuracy: 0.2500\n",
      "Epoch 6/20\n",
      "4/4 [==============================] - 3s 737ms/step - loss: 8.8445 - accuracy: 0.0000e+00 - val_loss: 41.7369 - val_accuracy: 0.2500\n",
      "Epoch 7/20\n",
      "4/4 [==============================] - 3s 759ms/step - loss: 4.8306 - accuracy: 0.2500 - val_loss: 38.2672 - val_accuracy: 0.2500\n",
      "Epoch 8/20\n",
      "4/4 [==============================] - 4s 1s/step - loss: 4.3796 - accuracy: 0.2500 - val_loss: 34.3126 - val_accuracy: 0.2917\n",
      "Epoch 9/20\n",
      "4/4 [==============================] - 3s 746ms/step - loss: 6.0509 - accuracy: 0.2500 - val_loss: 31.3225 - val_accuracy: 0.2917\n",
      "Epoch 10/20\n",
      "4/4 [==============================] - 3s 748ms/step - loss: 4.8904 - accuracy: 0.1250 - val_loss: 29.7039 - val_accuracy: 0.2917\n",
      "Epoch 11/20\n",
      "4/4 [==============================] - 3s 753ms/step - loss: 7.7762 - accuracy: 0.1250 - val_loss: 28.4877 - val_accuracy: 0.2500\n",
      "Epoch 12/20\n",
      "4/4 [==============================] - 3s 753ms/step - loss: 1.9256 - accuracy: 0.5000 - val_loss: 26.0452 - val_accuracy: 0.2500\n",
      "Epoch 13/20\n",
      "4/4 [==============================] - 3s 750ms/step - loss: 2.9039 - accuracy: 0.1250 - val_loss: 25.5092 - val_accuracy: 0.2500\n",
      "Epoch 14/20\n",
      "3/4 [=====================>........] - ETA: 0s - loss: 2.6763 - accuracy: 0.1667"
     ]
    }
   ],
   "source": [
    "model_fit=model.fit(train_dataset,\n",
    "                    steps_per_epoch=4,\n",
    "                    epochs=20,\n",
    "                   validation_data=validation_dataset)"
   ]
  },
  {
   "cell_type": "code",
   "execution_count": 88,
   "id": "4e1d3823",
   "metadata": {},
   "outputs": [
    {
     "name": "stdout",
     "output_type": "stream",
     "text": [
      "dict_keys(['loss', 'accuracy', 'val_loss', 'val_accuracy'])\n"
     ]
    }
   ],
   "source": [
    "print(model_fit.history.keys())"
   ]
  },
  {
   "cell_type": "code",
   "execution_count": 89,
   "id": "fdc759cd",
   "metadata": {},
   "outputs": [
    {
     "data": {
      "image/png": "[encoded data removed]",
      "text/plain": [
       "<Figure size 432x288 with 1 Axes>"
      ]
     },
     "metadata": {
      "needs_background": "light"
     },
     "output_type": "display_data"
    }
   ],
   "source": [
    "plt.plot(model_fit.history['accuracy'])\n",
    "plt.plot(model_fit.history['val_accuracy'])\n",
    "plt.title('model accuracy')\n",
    "plt.ylabel('accuracy')\n",
    "plt.xlabel('epoch')\n",
    "plt.legend(['train', 'test'], loc='upper left')\n",
    "plt.show()"
   ]
  },
  {
   "cell_type": "code",
   "execution_count": 90,
   "id": "d0b5b2e0",
   "metadata": {},
   "outputs": [
    {
     "data": {
      "image/png": "[encoded data removed]",
      "text/plain": [
       "<Figure size 432x288 with 1 Axes>"
      ]
     },
     "metadata": {
      "needs_background": "light"
     },
     "output_type": "display_data"
    }
   ],
   "source": [
    "plt.plot(model_fit.history['loss'])\n",
    "plt.plot(model_fit.history['val_loss'])\n",
    "plt.title('model loss')\n",
    "plt.ylabel('loss')\n",
    "plt.xlabel('epoch')\n",
    "plt.legend(['train', 'test'], loc='upper left')\n",
    "plt.show()"
   ]
  },
  {
   "cell_type": "code",
   "execution_count": null,
   "id": "964746e5",
   "metadata": {},
   "outputs": [],
   "source": []
  }
 ],
 "metadata": {
  "kernelspec": {
   "display_name": "Python 3 (ipykernel)",
   "language": "python",
   "name": "python3"
  },
  "language_info": {
   "codemirror_mode": {
    "name": "ipython",
    "version": 3
   },
   "file_extension": ".py",
   "mimetype": "text/x-python",
   "name": "python",
   "nbconvert_exporter": "python",
   "pygments_lexer": "ipython3",
   "version": "3.9.2"
  }
 },
 "nbformat": 4,
 "nbformat_minor": 5
}
